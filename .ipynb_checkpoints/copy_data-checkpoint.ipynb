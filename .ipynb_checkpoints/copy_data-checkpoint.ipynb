{
 "cells": [
  {
   "cell_type": "code",
   "execution_count": 1,
   "metadata": {},
   "outputs": [],
   "source": [
    "import os\n",
    "import shutil"
   ]
  },
  {
   "cell_type": "code",
   "execution_count": 23,
   "metadata": {},
   "outputs": [
    {
     "name": "stdout",
     "output_type": "stream",
     "text": [
      "E:\\dev\\Shopee Code League\\Product detection\\train\n"
     ]
    }
   ],
   "source": [
    "src = os.path.abspath('train\\\\')\n",
    "des = os.path.abspath('train\\\\all\\\\')"
   ]
  },
  {
   "cell_type": "code",
   "execution_count": 22,
   "metadata": {},
   "outputs": [
    {
     "name": "stdout",
     "output_type": "stream",
     "text": [
      "E:\\dev\\Shopee Code League\\Product detection\\train00\\\n"
     ]
    }
   ],
   "source": [
    "for i in range(42):\n",
    "    sub_src = src + str(i).zfill(2) + '\\\\'\n",
    "    print(sub_src)\n",
    "#     for filename in os.listdir(sub_src):\n",
    "#         print(filename)\n",
    "    break"
   ]
  }
 ],
 "metadata": {
  "kernelspec": {
   "display_name": "Python 3.7.5 64-bit",
   "language": "python",
   "name": "python37564bit6b4413a1b72341edb9688b4d2be10d24"
  },
  "language_info": {
   "codemirror_mode": {
    "name": "ipython",
    "version": 3
   },
   "file_extension": ".py",
   "mimetype": "text/x-python",
   "name": "python",
   "nbconvert_exporter": "python",
   "pygments_lexer": "ipython3",
   "version": "3.7.5"
  }
 },
 "nbformat": 4,
 "nbformat_minor": 4
}
