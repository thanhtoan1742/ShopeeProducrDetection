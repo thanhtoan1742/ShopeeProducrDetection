{
 "cells": [
  {
   "cell_type": "code",
   "execution_count": 4,
   "metadata": {},
   "outputs": [],
   "source": [
    "import cv2 as cv\n",
    "import numpy as np\n",
    "import os"
   ]
  },
  {
   "cell_type": "code",
   "execution_count": null,
   "metadata": {},
   "outputs": [],
   "source": [
    "IMG_SIZE = (299, 299)"
   ]
  },
  {
   "cell_type": "code",
   "execution_count": 5,
   "metadata": {},
   "outputs": [],
   "source": [
    "def process(src_path, des_path):\n",
    "    img = cv.imread(src_path)\n",
    "    if img is None:\n",
    "        return \n",
    "    img = cv.resize(img, IMG_SIZE, interpolation=cv.INTER_AREA)\n",
    "    cv.imwrite(des_path, img)"
   ]
  },
  {
   "cell_type": "code",
   "execution_count": 6,
   "metadata": {},
   "outputs": [],
   "source": [
    "for root, dirs, files in os.walk('data/raw/test/test'):\n",
    "    for file in files:\n",
    "        if file.endswith('.jpg'):\n",
    "            process(root + '/' + file, 'data/processed_test/' + file)            "
   ]
  }
 ],
 "metadata": {
  "kernelspec": {
   "display_name": "Python 3.8.3 64-bit ('python38': conda)",
   "language": "python",
   "name": "python38364bitpython38conda62f8b6a22303428bafce4c8f8df402aa"
  },
  "language_info": {
   "codemirror_mode": {
    "name": "ipython",
    "version": 3
   },
   "file_extension": ".py",
   "mimetype": "text/x-python",
   "name": "python",
   "nbconvert_exporter": "python",
   "pygments_lexer": "ipython3",
   "version": "3.8.3"
  }
 },
 "nbformat": 4,
 "nbformat_minor": 4
}
