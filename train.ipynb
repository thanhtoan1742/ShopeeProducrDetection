{
 "cells": [
  {
   "cell_type": "markdown",
   "metadata": {},
   "source": [
    "# Prepare data generator"
   ]
  },
  {
   "cell_type": "code",
   "execution_count": 1,
   "metadata": {},
   "outputs": [],
   "source": [
    "import pickle\n",
    "from data_generator import DataGenerator"
   ]
  },
  {
   "cell_type": "code",
   "execution_count": 2,
   "metadata": {},
   "outputs": [],
   "source": [
    "IMG_SIZE = (299, 299)\n",
    "IMG_CHANNELS = 3\n",
    "CLASSES = 42\n",
    "\n",
    "partitions = pickle.load(open('info/partitions.bin', 'rb'))\n",
    "labels = pickle.load(open('info/labels.bin', 'rb'))"
   ]
  },
  {
   "cell_type": "markdown",
   "metadata": {},
   "source": [
    "# Train - freezing weights of body layers"
   ]
  },
  {
   "cell_type": "code",
   "execution_count": 3,
   "metadata": {},
   "outputs": [],
   "source": [
    "from tensorflow import keras\n",
    "from tensorflow.keras.models import Model\n",
    "from tensorflow.keras.layers import *\n",
    "from tensorflow.keras.optimizers import *\n",
    "from tensorflow.keras.losses import *"
   ]
  },
  {
   "cell_type": "code",
   "execution_count": 4,
   "metadata": {},
   "outputs": [],
   "source": [
    "def new_body_freezed_model():\n",
    "    base_model = keras.applications.Xception(\n",
    "        include_top = False,\n",
    "        input_shape = (*IMG_SIZE, IMG_CHANNELS)\n",
    "    )\n",
    "    \n",
    "    head_model = base_model.output\n",
    "    head_model = AveragePooling2D(pool_size=(7, 7))(head_model)\n",
    "    head_model = Flatten(name=\"flatten\")(head_model)\n",
    "    head_model = Dense(256, activation=\"sigmoid\")(head_model)\n",
    "    head_model = Dropout(0.5)(head_model)\n",
    "    head_model = Dense(CLASSES, activation=\"softmax\")(head_model)\n",
    "    \n",
    "    for layer in base_model.layers:\n",
    "        layer.trainable = False\n",
    "\n",
    "    return Model(inputs=base_model.input, outputs=head_model)"
   ]
  },
  {
   "cell_type": "code",
   "execution_count": 5,
   "metadata": {},
   "outputs": [],
   "source": [
    "model = new_body_freezed_model()"
   ]
  },
  {
   "cell_type": "code",
   "execution_count": 6,
   "metadata": {},
   "outputs": [],
   "source": [
    "model.compile(\n",
    "    optimizer = Adam(),\n",
    "    loss = CategoricalCrossentropy(),\n",
    "    metrics=['accuracy']\n",
    ")"
   ]
  },
  {
   "cell_type": "code",
   "execution_count": null,
   "metadata": {},
   "outputs": [
    {
     "name": "stdout",
     "output_type": "stream",
     "text": [
      "Epoch 1/10\n",
      "  14/3128 [..............................] - ETA: 9:45:11 - loss: 3.8553 - accuracy: 0.0647"
     ]
    }
   ],
   "source": [
    "model.fit(\n",
    "    DataGenerator(\n",
    "        partitions['train'],\n",
    "        labels,\n",
    "        batch_size = 32,\n",
    "        dim = IMG_SIZE,\n",
    "        n_channels = IMG_CHANNELS,\n",
    "        n_classes = 42,\n",
    "        shuffle = True,\n",
    "        dir_path = 'data/processed/train/'\n",
    "    ),\n",
    "    validation_data = DataGenerator(\n",
    "        partitions['validation'],\n",
    "        labels,\n",
    "        batch_size = 1,\n",
    "        dim = IMG_SIZE,\n",
    "        n_channels = IMG_CHANNELS,\n",
    "        n_classes = 42,\n",
    "        shuffle = False,\n",
    "        dir_path = 'data/processed/train/'\n",
    "    ),\n",
    "    epochs = 10\n",
    ")"
   ]
  },
  {
   "cell_type": "code",
   "execution_count": null,
   "metadata": {},
   "outputs": [],
   "source": [
    "model.save('models/xception_00_10eps')\n"
   ]
  }
 ],
 "metadata": {
  "kernelspec": {
   "display_name": "Python 3",
   "language": "python",
   "name": "python3"
  },
  "language_info": {
   "codemirror_mode": {
    "name": "ipython",
    "version": 3
   },
   "file_extension": ".py",
   "mimetype": "text/x-python",
   "name": "python",
   "nbconvert_exporter": "python",
   "pygments_lexer": "ipython3",
   "version": "3.7.6"
  }
 },
 "nbformat": 4,
 "nbformat_minor": 4
}
