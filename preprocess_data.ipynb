{
 "cells": [
  {
   "cell_type": "code",
   "execution_count": 1,
   "metadata": {},
   "outputs": [],
   "source": [
    "import os\n",
    "import shutil\n",
    "import cv2 as cv"
   ]
  },
  {
   "cell_type": "code",
   "execution_count": 2,
   "metadata": {},
   "outputs": [],
   "source": [
    "src = 'data/raw/train/train/'\n",
    "des = 'data/processed/train/'"
   ]
  },
  {
   "cell_type": "code",
   "execution_count": 17,
   "metadata": {},
   "outputs": [
    {
     "name": "stdout",
     "output_type": "stream",
     "text": [
      "data/raw/train/train/00/\n",
      "data/raw/train/train/01/\n",
      "data/raw/train/train/02/\n",
      "data/raw/train/train/03/\n",
      "data/raw/train/train/04/\n",
      "data/raw/train/train/05/\n",
      "data/raw/train/train/06/\n",
      "data/raw/train/train/07/\n",
      "data/raw/train/train/08/\n",
      "data/raw/train/train/09/\n",
      "data/raw/train/train/10/\n",
      "data/raw/train/train/11/\n",
      "data/raw/train/train/12/\n",
      "data/raw/train/train/13/\n",
      "data/raw/train/train/14/\n",
      "data/raw/train/train/15/\n",
      "data/raw/train/train/16/\n",
      "data/raw/train/train/17/\n",
      "data/raw/train/train/18/\n",
      "data/raw/train/train/19/\n",
      "data/raw/train/train/20/\n",
      "data/raw/train/train/21/\n",
      "data/raw/train/train/22/\n",
      "data/raw/train/train/23/\n",
      "data/raw/train/train/24/\n",
      "data/raw/train/train/25/\n",
      "data/raw/train/train/26/\n",
      "data/raw/train/train/27/\n",
      "data/raw/train/train/28/\n",
      "data/raw/train/train/29/\n",
      "data/raw/train/train/30/\n",
      "data/raw/train/train/31/\n",
      "data/raw/train/train/32/\n",
      "data/raw/train/train/33/\n",
      "data/raw/train/train/34/\n",
      "data/raw/train/train/35/\n",
      "data/raw/train/train/36/\n",
      "data/raw/train/train/37/\n",
      "data/raw/train/train/38/\n",
      "data/raw/train/train/39/\n",
      "data/raw/train/train/40/\n",
      "data/raw/train/train/41/\n"
     ]
    }
   ],
   "source": [
    "for i in range(42):\n",
    "    sub_src = src + str(i).zfill(2) + '/'\n",
    "    print(sub_src)\n",
    "    for filename in os.listdir(sub_src):\n",
    "        if not filename.endswith(\".jpg\"): \n",
    "            continue\n",
    "        image = cv.imread(sub_src + filename)\n",
    "        image = cv.resize(image, (299, 299))\n",
    "        cv.imwrite(des + filename, image)"
   ]
  },
  {
   "cell_type": "code",
   "execution_count": 19,
   "metadata": {},
   "outputs": [],
   "source": [
    "src = 'data/raw/test/test/'\n",
    "des = 'data/processed/test/'"
   ]
  },
  {
   "cell_type": "code",
   "execution_count": 20,
   "metadata": {},
   "outputs": [],
   "source": [
    "for filename in os.listdir(src):\n",
    "    if not filename.endswith(\".jpg\"): \n",
    "        continue\n",
    "    image = cv.imread(src + filename)\n",
    "    image = cv.resize(image, (299, 299))\n",
    "    cv.imwrite(des + filename, image)"
   ]
  }
 ],
 "metadata": {
  "kernelspec": {
   "display_name": "Python 3",
   "language": "python",
   "name": "python3"
  },
  "language_info": {
   "codemirror_mode": {
    "name": "ipython",
    "version": 3
   },
   "file_extension": ".py",
   "mimetype": "text/x-python",
   "name": "python",
   "nbconvert_exporter": "python",
   "pygments_lexer": "ipython3",
   "version": "3.7.6"
  }
 },
 "nbformat": 4,
 "nbformat_minor": 4
}
